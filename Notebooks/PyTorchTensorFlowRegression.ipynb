{
 "cells": [
  {
   "cell_type": "code",
   "execution_count": null,
   "id": "e84bcab0-3531-4bd7-b6ec-15c5fe114931",
   "metadata": {},
   "outputs": [],
   "source": [
    "# !pip install tensorflow"
   ]
  },
  {
   "cell_type": "code",
   "execution_count": null,
   "id": "3249fa2d-9fd5-4fa2-951e-bebe244b7c45",
   "metadata": {
    "tags": []
   },
   "outputs": [],
   "source": [
    "import pandas as pd\n",
    "\n",
    "train_df = pd.read_csv('sample_data/california_housing_train.csv')\n",
    "test_df = pd.read_csv('sample_data/california_housing_test.csv')\n",
    "\n",
    "train_df.head()"
   ]
  },
  {
   "cell_type": "code",
   "execution_count": null,
   "id": "e254b2dc-0f41-4381-a3be-adfe502a9147",
   "metadata": {
    "tags": []
   },
   "outputs": [],
   "source": [
    "X_train_np = train_df.to_numpy()[:, :-1] # all rows, all columns except last (label -> house value)\n",
    "y_train_np = train_df.to_numpy()[:, -1] # last column\n",
    "\n",
    "X_train_np.shape, y_train_np.shape"
   ]
  },
  {
   "cell_type": "code",
   "execution_count": null,
   "id": "c81a2042-ef47-4900-b4e6-4fc8a1093248",
   "metadata": {
    "tags": []
   },
   "outputs": [],
   "source": [
    "X_test_np = test_df.to_numpy()[:, :-1] # all rows, all columns except last (label -> house value)\n",
    "y_test_np = test_df.to_numpy()[:, -1] # last column\n",
    "\n",
    "X_test_np.shape, y_test_np.shape"
   ]
  },
  {
   "cell_type": "code",
   "execution_count": null,
   "id": "f065dd77-f4aa-435c-8690-b11a16b44c90",
   "metadata": {
    "tags": []
   },
   "outputs": [],
   "source": [
    "import torch\n",
    "from torch.utils.data import TensorDataset\n",
    "\n",
    "train_dataset = TensorDataset(torch.tensor(X_train_np, dtype=torch.float),\n",
    "                              torch.tensor(y_train_np.reshape((-1, 1)), dtype=torch.float))\n",
    "\n",
    "# reshape (-1,1) means convert vector-row to vector-column\n",
    "\n",
    "train_dataset"
   ]
  },
  {
   "cell_type": "code",
   "execution_count": null,
   "id": "31a04051-c4ae-42f1-a377-be4faaac154f",
   "metadata": {
    "tags": []
   },
   "outputs": [],
   "source": [
    "# Convert TensorDataset to DataLoader\n",
    "\n",
    "from torch.utils.data import DataLoader\n",
    "\n",
    "train_dataloader = DataLoader(train_dataset, batch_size=128) # 128 is ok since it is not images and DS is small\n",
    "\n",
    "for X, y in train_dataloader:\n",
    "    print(X.shape, y.shape)\n",
    "    break"
   ]
  },
  {
   "cell_type": "code",
   "execution_count": null,
   "id": "1ae75b08-ac78-485d-a16e-675856b0b4c0",
   "metadata": {
    "tags": []
   },
   "outputs": [],
   "source": [
    "\n",
    "test_dataset = TensorDataset(torch.tensor(X_test_np, dtype=torch.float),\n",
    "                              torch.tensor(y_test_np.reshape((-1, 1)), dtype=torch.float))\n",
    "\n",
    "# reshape (-1,1) means convert vector-row to vector-column\n",
    "\n",
    "test_dataset"
   ]
  },
  {
   "cell_type": "code",
   "execution_count": null,
   "id": "d6b3d701-b65d-4935-9f5c-351a01036091",
   "metadata": {
    "tags": []
   },
   "outputs": [],
   "source": [
    "test_dataloader = DataLoader(test_dataset, batch_size=64) # smaller DS - batch is 64\n",
    "\n",
    "for X, y in test_dataloader:\n",
    "    print(X.shape, y.shape)\n",
    "    break"
   ]
  },
  {
   "cell_type": "code",
   "execution_count": null,
   "id": "0a6ae6d7-178f-425a-a148-a83c95b32771",
   "metadata": {
    "tags": []
   },
   "outputs": [],
   "source": [
    "from torch import nn\n",
    "\n",
    "device = 'cuda' if torch.cuda.is_available() else 'cpu'\n",
    "print(f'Using {device} device')\n",
    "\n",
    "class NeuralNet(nn.Module):\n",
    "    def __init__(self):\n",
    "        super(NeuralNet, self).__init__()\n",
    "        # Layers have to be specified explicitly\n",
    "        self.hidden_layer_1 = nn.Linear(8, 64)  # input: 8, fully connected => output: 64 ?\n",
    "        self.hidden_activation = nn.ReLU()  # hidden layer and activation are functions?\n",
    "        \n",
    "        self.out = nn.Linear(64, 1)\n",
    "        \n",
    "    # specify pipeline    \n",
    "    def forward(self, x):\n",
    "        x = self.hidden_layer_1(x)\n",
    "        x = self.hidden_activation(x)\n",
    "        x = self.out(x)\n",
    "        return x\n",
    "    \n",
    "    \n",
    "model = NeuralNet().to(device)   # link do device\n",
    "print(model)"
   ]
  },
  {
   "cell_type": "code",
   "execution_count": null,
   "id": "41494f4c-f475-47d2-8c11-d70a00f74ed9",
   "metadata": {
    "tags": []
   },
   "outputs": [],
   "source": [
    "loss_fn = nn.MSELoss()\n",
    "optimizer = torch.optim.Adam(model.parameters(), lr=0.01) # lr == learning rate\n"
   ]
  },
  {
   "cell_type": "code",
   "execution_count": null,
   "id": "4193b745-298b-4519-a8be-f720795f8073",
   "metadata": {
    "tags": []
   },
   "outputs": [],
   "source": [
    "def train(dataloader, model, loss_fn, optimiser):\n",
    "    model.train() # it is not actual training - just set model to training mode\n",
    "    train_loss = 0 # will accumulate it\n",
    "    \n",
    "    for i, (X,y) in enumerate(dataloader): # do we really need i in this loop ? Unless we print per batch iteration\n",
    "        X, y = X.to(device), y.to(device)  # link to device (gpu/cpu)\n",
    "        \n",
    "        y_hat = model(X)  # make prediction on train data\n",
    "        mse = loss_fn(y_hat, y) # it is the tensor that stores computation of loss between pred an sctual \n",
    "        train_loss += mse.item() # number sinse it is one dimensional\n",
    "        \n",
    "        optimizer.zero_grad()  # zeroed gradients - in optimization\n",
    "        mse.backward()              # back propagation\n",
    "        optimiser.step()            # one step\n",
    "        \n",
    "    num_batches = len(dataloader)\n",
    "    train_mse = train_loss / num_batches   # average over number of batches\n",
    "    print(f'Train RMSE: {train_mse**(1/2)}')\n",
    "        "
   ]
  },
  {
   "cell_type": "code",
   "execution_count": null,
   "id": "a6c5ebeb-dbc9-45a3-af63-4a4475c1ff51",
   "metadata": {
    "tags": []
   },
   "outputs": [],
   "source": [
    "# As in TF we keeep switching between train and test\n",
    "\n",
    "def test(dataloader, model, loss_fn):\n",
    "    model.eval()  # set model in evaluation mode\n",
    "    test_loss = 0\n",
    "    # sinse it is test - no optimization, no derivateves calculating\n",
    "    with torch.no_grad():\n",
    "        for X, y in dataloader:  # no need for i index\n",
    "            X, y = X.to(device), y.to(device)\n",
    "            y_hat = model(X)\n",
    "            test_loss += loss_fn(y_hat, y).item()  # since loss here is tensor with dimension > 1\n",
    "                                                   # we convert it to value using item() call\n",
    "    num_batches = len(dataloader)\n",
    "    test_mse = test_loss / num_batches\n",
    "    \n",
    "    print(f'Test RMSE: {test_mse**(1/2)}\\n')"
   ]
  },
  {
   "cell_type": "code",
   "execution_count": null,
   "id": "c8d5bdd9-e8b8-4995-8226-d37679cde49f",
   "metadata": {
    "tags": []
   },
   "outputs": [],
   "source": [
    "# As in TF we do something like fit -> train/test \n",
    "\n",
    "epochs = 10  # try 1000\n",
    "\n",
    "for epoch in range(epochs):\n",
    "    print(f'Epoch {epoch+1}:') # + 1 since epochs range is 0 based\n",
    "    \n",
    "    train(train_dataloader, model, loss_fn, optimizer)\n",
    "    test(test_dataloader, model, loss_fn)"
   ]
  },
  {
   "cell_type": "code",
   "execution_count": null,
   "id": "7e01af75-b81d-4af2-89b5-a3165aec46c2",
   "metadata": {
    "tags": []
   },
   "outputs": [],
   "source": [
    "# NOTE we did not optimize hyperparameters!"
   ]
  },
  {
   "cell_type": "markdown",
   "id": "b3801524-5cb9-4535-8408-d5d2eabc4866",
   "metadata": {},
   "source": [
    "### Now the same modeling using TensorFlow: (reworked)"
   ]
  },
  {
   "cell_type": "code",
   "execution_count": null,
   "id": "e3be0272-63c4-4399-aae5-bc2495f80716",
   "metadata": {
    "tags": []
   },
   "outputs": [],
   "source": [
    "# Load and prepare data\n",
    "\n",
    "import pandas as pd\n",
    "import numpy as np\n",
    "import tensorflow as tf\n",
    "from tensorflow import keras\n",
    "\n",
    "# Load the data\n",
    "train_df = pd.read_csv('sample_data/california_housing_train.csv')\n",
    "test_df = pd.read_csv('sample_data/california_housing_test.csv')\n",
    "\n",
    "# Prepare the data\n",
    "X_train_np = train_df.iloc[:, :-1].to_numpy().astype('float32')\n",
    "y_train_np = train_df.iloc[:, -1].to_numpy().reshape((-1, 1)).astype('float32')\n",
    "\n",
    "X_test_np = test_df.iloc[:, :-1].to_numpy().astype('float32')\n",
    "y_test_np = test_df.iloc[:, -1].to_numpy().reshape((-1, 1)).astype('float32')\n",
    "\n",
    "# Create TensorFlow datasets\n",
    "# train_dataset = tf.data.Dataset.from_tensor_slices((X_train_np, y_train_np))\n",
    "# train_dataset = train_dataset.batch(128)\n",
    "\n",
    "# test_dataset = tf.data.Dataset.from_tensor_slices((X_test_np, y_test_np))\n",
    "# test_dataset = test_dataset.batch(64)\n",
    "\n",
    "train_dataset = tf.data.Dataset.from_tensor_slices((X_train_np, y_train_np))\n",
    "train_dataset = train_dataset.batch(128, drop_remainder=True)  # Use drop_remainder to drop incomplete batches\n",
    "\n",
    "test_dataset = tf.data.Dataset.from_tensor_slices((X_test_np, y_test_np))\n",
    "test_dataset = test_dataset.batch(64, drop_remainder=True)  # Use drop_remainder to drop incomplete batches\n",
    "\n",
    "\n",
    "\n"
   ]
  },
  {
   "cell_type": "code",
   "execution_count": null,
   "id": "4cc4ed55-40c5-4a6f-956d-c53b4f158f0d",
   "metadata": {
    "tags": []
   },
   "outputs": [],
   "source": [
    "# Modeling and testing\n",
    "# Define the model\n",
    "\n",
    "model = keras.Sequential([\n",
    "    keras.layers.Dense(64, activation='relu', input_shape=(X_train_np.shape[1],)),\n",
    "    keras.layers.Dense(1)\n",
    "])\n",
    "\n",
    "# Compile the model\n",
    "model.compile(optimizer='adam', loss='mean_squared_error')\n",
    "\n",
    "# Training loop\n",
    "epochs = 10 # 100\n",
    "\n",
    "for epoch in range(epochs):\n",
    "    print(f'Epoch {epoch + 1}:')\n",
    "    \n",
    "    # Training\n",
    "    train_loss = 0\n",
    "    num_batches = 0\n",
    "    \n",
    "    for X, y in train_dataset:\n",
    "        with tf.GradientTape() as tape:\n",
    "            y_hat = model(X)\n",
    "            loss = tf.keras.losses.mean_squared_error(y, y_hat)\n",
    "        \n",
    "        grads = tape.gradient(loss, model.trainable_variables)\n",
    "        model.optimizer.apply_gradients(zip(grads, model.trainable_variables))\n",
    "        \n",
    "        train_loss += loss.numpy() # np.array(loss) \n",
    "        num_batches += 1\n",
    "    \n",
    "    train_rmse = tf.math.sqrt(train_loss / num_batches)\n",
    "    print(f'Train RMSE: {train_rmse.numpy()}')\n",
    "    \n",
    "    # Testing\n",
    "    test_loss = 0\n",
    "    num_batches = 0\n",
    "    \n",
    "    for X, y in test_dataset:\n",
    "        y_hat = model(X)\n",
    "        loss = tf.keras.losses.mean_squared_error(y, y_hat)\n",
    "        \n",
    "        test_loss += loss.numpy()\n",
    "        num_batches += 1\n",
    "    \n",
    "    test_rmse = tf.math.sqrt(test_loss / num_batches)\n",
    "    print(f'Test RMSE: {test_rmse.numpy()}\\n')"
   ]
  },
  {
   "cell_type": "code",
   "execution_count": null,
   "id": "bcb3bfca-1f33-4eb2-aea9-a82914d53fd7",
   "metadata": {},
   "outputs": [],
   "source": []
  },
  {
   "cell_type": "code",
   "execution_count": null,
   "id": "d952af4f-05c7-4059-ad19-f7c9dd0216bf",
   "metadata": {},
   "outputs": [],
   "source": []
  }
 ],
 "metadata": {
  "kernelspec": {
   "display_name": "Python 3 (ipykernel)",
   "language": "python",
   "name": "python3"
  },
  "language_info": {
   "codemirror_mode": {
    "name": "ipython",
    "version": 3
   },
   "file_extension": ".py",
   "mimetype": "text/x-python",
   "name": "python",
   "nbconvert_exporter": "python",
   "pygments_lexer": "ipython3",
   "version": "3.11.0"
  }
 },
 "nbformat": 4,
 "nbformat_minor": 5
}
